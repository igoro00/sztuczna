{
 "cells": [
  {
   "cell_type": "code",
   "execution_count": 1,
   "id": "5b1aa174",
   "metadata": {},
   "outputs": [],
   "source": [
    "smashed_str = \"jdsalkkdskdooiksdmzzkkdllasdkjsaskasdhawlsmzoqiweuqwlaksjlda\"\n",
    "data = smashed_str.upper()"
   ]
  },
  {
   "cell_type": "code",
   "execution_count": 2,
   "id": "7644c949",
   "metadata": {},
   "outputs": [],
   "source": [
    "import matplotlib.pyplot as plt\n",
    "import seaborn as sns\n",
    "import numpy as np\n",
    "import pandas as pd\n",
    "import plotly.graph_objects as go\n",
    "import plotly.express as px\n",
    "from plotly.subplots import make_subplots\n",
    "import random\n",
    "from collections import OrderedDict\n",
    "from sklearn.cluster import KMeans\n",
    "from sklearn.preprocessing import StandardScaler\n",
    "\n",
    "\n",
    "# Set style for better visualizations\n",
    "plt.style.use('default')\n",
    "sns.set_palette(\"viridis\")"
   ]
  },
  {
   "cell_type": "code",
   "execution_count": null,
   "id": "4ce8b41c",
   "metadata": {},
   "outputs": [
    {
     "name": "stdout",
     "output_type": "stream",
     "text": [
      "Keyboard layout defined with 27 keys\n",
      "Sample keys and positions: [('Q', (1, 0.5)), ('W', (1, 1.5)), ('E', (1, 2.5)), ('R', (1, 3.5)), ('T', (1, 4.5))]\n"
     ]
    }
   ],
   "source": [
    "# Define the QWERTY keyboard layout with coordinates\n",
    "keyboard_layout = {\n",
    "    \n",
    "    # Row 2 (QWERTY row)\n",
    "    'Q': (1, 0.5), 'W': (1, 1.5), 'E': (1, 2.5), 'R': (1, 3.5), 'T': (1, 4.5),\n",
    "    'Y': (1, 5.5), 'U': (1, 6.5), 'I': (1, 7.5), 'O': (1, 8.5), 'P': (1, 9.5),\n",
    "    \n",
    "    # Row 3 (ASDF row)\n",
    "    'A': (2, 0.75), 'S': (2, 1.75), 'D': (2, 2.75), 'F': (2, 3.75), 'G': (2, 4.75),\n",
    "    'H': (2, 5.75), 'J': (2, 6.75), 'K': (2, 7.75), 'L': (2, 8.75),\n",
    "    \n",
    "    # Row 4 (ZXCV row)\n",
    "    'Z': (3, 1.25), 'X': (3, 2.25), 'C': (3, 3.25), 'V': (3, 4.25), 'B': (3, 5.25),\n",
    "    'N': (3, 6.25), 'M': (3, 7.25)\n",
    "}\n",
    "\n",
    "print(f\"Keyboard layout defined with {len(keyboard_layout)} keys\")\n",
    "print(\"Sample keys and positions:\", list(keyboard_layout.items())[:5])"
   ]
  },
  {
   "cell_type": "code",
   "execution_count": 4,
   "id": "8b031a54",
   "metadata": {},
   "outputs": [
    {
     "data": {
      "text/plain": [
       "{'J': 3,\n",
       " 'D': 8,\n",
       " 'S': 9,\n",
       " 'A': 7,\n",
       " 'L': 6,\n",
       " 'K': 9,\n",
       " 'O': 3,\n",
       " 'I': 2,\n",
       " 'M': 2,\n",
       " 'Z': 3,\n",
       " 'H': 1,\n",
       " 'W': 3,\n",
       " 'Q': 2,\n",
       " 'E': 1,\n",
       " 'U': 1}"
      ]
     },
     "execution_count": 4,
     "metadata": {},
     "output_type": "execute_result"
    }
   ],
   "source": [
    "usage_data = {}\n",
    "for c in data:\n",
    "    if c not in usage_data:\n",
    "        usage_data[c] = 0\n",
    "    usage_data[c]+=1\n",
    "usage_data"
   ]
  },
  {
   "cell_type": "code",
   "execution_count": 5,
   "id": "e0967fe2",
   "metadata": {},
   "outputs": [
    {
     "name": "stdout",
     "output_type": "stream",
     "text": [
      "Usage data generated:\n",
      "  key  row  col  usage\n",
      "0   Q    1  0.5      2\n",
      "1   W    1  1.5      3\n",
      "2   E    1  2.5      1\n",
      "3   R    1  3.5      0\n",
      "4   T    1  4.5      0\n",
      "5   Y    1  5.5      0\n",
      "6   U    1  6.5      1\n",
      "7   I    1  7.5      2\n",
      "8   O    1  8.5      3\n",
      "9   P    1  9.5      0\n",
      "\n",
      "Total keys: 27\n",
      "Usage range: 0 - 9\n"
     ]
    }
   ],
   "source": [
    "# Create DataFrame for easier manipulation\n",
    "keyboard_df = pd.DataFrame([\n",
    "    {'key': key, 'row': pos[0], 'col': pos[1], 'usage': usage_data[key] if key in usage_data else 0}\n",
    "    for key, pos in keyboard_layout.items()\n",
    "])\n",
    "\n",
    "print(\"Usage data generated:\")\n",
    "print(keyboard_df.head(10))\n",
    "print(f\"\\nTotal keys: {len(keyboard_df)}\")\n",
    "print(f\"Usage range: {keyboard_df['usage'].min()} - {keyboard_df['usage'].max()}\")"
   ]
  },
  {
   "cell_type": "code",
   "execution_count": 6,
   "id": "ce3a32c3",
   "metadata": {},
   "outputs": [
    {
     "ename": "NameError",
     "evalue": "name 'clusters' is not defined",
     "output_type": "error",
     "traceback": [
      "\u001b[31m---------------------------------------------------------------------------\u001b[39m",
      "\u001b[31mNameError\u001b[39m                                 Traceback (most recent call last)",
      "\u001b[36mCell\u001b[39m\u001b[36m \u001b[39m\u001b[32mIn[6]\u001b[39m\u001b[32m, line 2\u001b[39m\n\u001b[32m      1\u001b[39m \u001b[38;5;66;03m# Add cluster information to the dataframe\u001b[39;00m\n\u001b[32m----> \u001b[39m\u001b[32m2\u001b[39m keyboard_df[\u001b[33m'\u001b[39m\u001b[33mcluster\u001b[39m\u001b[33m'\u001b[39m] = \u001b[43mclusters\u001b[49m\n\u001b[32m      4\u001b[39m \u001b[38;5;28mprint\u001b[39m(\u001b[33mf\u001b[39m\u001b[33m\"\u001b[39m\u001b[33mK-means clustering completed with \u001b[39m\u001b[38;5;132;01m{\u001b[39;00mn_clusters\u001b[38;5;132;01m}\u001b[39;00m\u001b[33m clusters\u001b[39m\u001b[33m\"\u001b[39m)\n\u001b[32m      5\u001b[39m \u001b[38;5;28mprint\u001b[39m(\u001b[33mf\u001b[39m\u001b[33m\"\u001b[39m\u001b[33mCluster distribution:\u001b[39m\u001b[33m\"\u001b[39m)\n",
      "\u001b[31mNameError\u001b[39m: name 'clusters' is not defined"
     ]
    }
   ],
   "source": [
    "# Add cluster information to the dataframe\n",
    "keyboard_df['cluster'] = clusters\n",
    "\n",
    "print(f\"K-means clustering completed with {n_clusters} clusters\")\n",
    "print(f\"Cluster distribution:\")\n",
    "print(keyboard_df['cluster'].value_counts().sort_index())\n",
    "\n",
    "# Calculate centroids in original coordinate space\n",
    "cluster_centers_original = scaler.inverse_transform(kmeans.cluster_centers_)\n",
    "\n",
    "# Create a DataFrame for centroids\n",
    "centroids_df = pd.DataFrame(cluster_centers_original, columns=['row', 'col'])\n",
    "centroids_df['cluster'] = range(n_clusters)\n",
    "centroids_df['label'] = [f'Centroid {i}' for i in range(n_clusters)]\n",
    "\n",
    "print(f\"\\nCluster Centroids:\")\n",
    "for i, center in enumerate(cluster_centers_original):\n",
    "    print(f\"  Cluster {i}: Row {center[0]:.2f}, Column {center[1]:.2f}\")"
   ]
  },
  {
   "cell_type": "code",
   "execution_count": null,
   "id": "38a32a0a",
   "metadata": {},
   "outputs": [
    {
     "data": {
      "application/vnd.plotly.v1+json": {
       "config": {
        "plotlyServerURL": "https://plot.ly"
       },
       "data": [
        {
         "hoverinfo": "text",
         "hovertext": [
          "Key: Q<br>Usage: 2<br>Row: 1<br>Position: 0.5",
          "Key: W<br>Usage: 3<br>Row: 1<br>Position: 1.5",
          "Key: E<br>Usage: 1<br>Row: 1<br>Position: 2.5",
          "Key: R<br>Usage: 0<br>Row: 1<br>Position: 3.5",
          "Key: T<br>Usage: 0<br>Row: 1<br>Position: 4.5",
          "Key: Y<br>Usage: 0<br>Row: 1<br>Position: 5.5",
          "Key: U<br>Usage: 1<br>Row: 1<br>Position: 6.5",
          "Key: I<br>Usage: 2<br>Row: 1<br>Position: 7.5",
          "Key: O<br>Usage: 3<br>Row: 1<br>Position: 8.5",
          "Key: P<br>Usage: 0<br>Row: 1<br>Position: 9.5",
          "Key: A<br>Usage: 7<br>Row: 2<br>Position: 0.75",
          "Key: S<br>Usage: 9<br>Row: 2<br>Position: 1.75",
          "Key: D<br>Usage: 8<br>Row: 2<br>Position: 2.75",
          "Key: F<br>Usage: 0<br>Row: 2<br>Position: 3.75",
          "Key: G<br>Usage: 0<br>Row: 2<br>Position: 4.75",
          "Key: H<br>Usage: 1<br>Row: 2<br>Position: 5.75",
          "Key: J<br>Usage: 3<br>Row: 2<br>Position: 6.75",
          "Key: K<br>Usage: 9<br>Row: 2<br>Position: 7.75",
          "Key: L<br>Usage: 6<br>Row: 2<br>Position: 8.75",
          "Key: Z<br>Usage: 3<br>Row: 3<br>Position: 1.25",
          "Key: X<br>Usage: 0<br>Row: 3<br>Position: 2.25",
          "Key: C<br>Usage: 0<br>Row: 3<br>Position: 3.25",
          "Key: V<br>Usage: 0<br>Row: 3<br>Position: 4.25",
          "Key: B<br>Usage: 0<br>Row: 3<br>Position: 5.25",
          "Key: N<br>Usage: 0<br>Row: 3<br>Position: 6.25",
          "Key: M<br>Usage: 2<br>Row: 3<br>Position: 7.25",
          "Key: SPACE<br>Usage: 0<br>Row: 4<br>Position: 6.0"
         ],
         "marker": {
          "color": {
           "bdata": "AgMBAAAAAQIDAAcJCAAAAQMJBgMAAAAAAAIA",
           "dtype": "i1"
          },
          "colorbar": {
           "title": {
            "text": "Usage Frequency"
           }
          },
          "colorscale": [
           [
            0,
            "#440154"
           ],
           [
            0.1111111111111111,
            "#482878"
           ],
           [
            0.2222222222222222,
            "#3e4989"
           ],
           [
            0.3333333333333333,
            "#31688e"
           ],
           [
            0.4444444444444444,
            "#26828e"
           ],
           [
            0.5555555555555556,
            "#1f9e89"
           ],
           [
            0.6666666666666666,
            "#35b779"
           ],
           [
            0.7777777777777778,
            "#6ece58"
           ],
           [
            0.8888888888888888,
            "#b5de2b"
           ],
           [
            1,
            "#fde725"
           ]
          ],
          "line": {
           "color": "white",
           "width": 2
          },
          "showscale": true,
          "size": 30
         },
         "mode": "markers+text",
         "text": [
          "Q",
          "W",
          "E",
          "R",
          "T",
          "Y",
          "U",
          "I",
          "O",
          "P",
          "A",
          "S",
          "D",
          "F",
          "G",
          "H",
          "J",
          "K",
          "L",
          "Z",
          "X",
          "C",
          "V",
          "B",
          "N",
          "M",
          "SPACE"
         ],
         "textfont": {
          "color": "white",
          "size": 12
         },
         "type": "scatter",
         "x": {
          "bdata": "AAAAAAAA4D8AAAAAAAD4PwAAAAAAAARAAAAAAAAADEAAAAAAAAASQAAAAAAAABZAAAAAAAAAGkAAAAAAAAAeQAAAAAAAACFAAAAAAAAAI0AAAAAAAADoPwAAAAAAAPw/AAAAAAAABkAAAAAAAAAOQAAAAAAAABNAAAAAAAAAF0AAAAAAAAAbQAAAAAAAAB9AAAAAAACAIUAAAAAAAAD0PwAAAAAAAAJAAAAAAAAACkAAAAAAAAARQAAAAAAAABVAAAAAAAAAGUAAAAAAAAAdQAAAAAAAABhA",
          "dtype": "f8"
         },
         "y": {
          "bdata": "AQEBAQEBAQEBAQICAgICAgICAgMDAwMDAwME",
          "dtype": "i1"
         }
        }
       ],
       "layout": {
        "height": 400,
        "showlegend": false,
        "template": {
         "data": {
          "bar": [
           {
            "error_x": {
             "color": "#2a3f5f"
            },
            "error_y": {
             "color": "#2a3f5f"
            },
            "marker": {
             "line": {
              "color": "#E5ECF6",
              "width": 0.5
             },
             "pattern": {
              "fillmode": "overlay",
              "size": 10,
              "solidity": 0.2
             }
            },
            "type": "bar"
           }
          ],
          "barpolar": [
           {
            "marker": {
             "line": {
              "color": "#E5ECF6",
              "width": 0.5
             },
             "pattern": {
              "fillmode": "overlay",
              "size": 10,
              "solidity": 0.2
             }
            },
            "type": "barpolar"
           }
          ],
          "carpet": [
           {
            "aaxis": {
             "endlinecolor": "#2a3f5f",
             "gridcolor": "white",
             "linecolor": "white",
             "minorgridcolor": "white",
             "startlinecolor": "#2a3f5f"
            },
            "baxis": {
             "endlinecolor": "#2a3f5f",
             "gridcolor": "white",
             "linecolor": "white",
             "minorgridcolor": "white",
             "startlinecolor": "#2a3f5f"
            },
            "type": "carpet"
           }
          ],
          "choropleth": [
           {
            "colorbar": {
             "outlinewidth": 0,
             "ticks": ""
            },
            "type": "choropleth"
           }
          ],
          "contour": [
           {
            "colorbar": {
             "outlinewidth": 0,
             "ticks": ""
            },
            "colorscale": [
             [
              0,
              "#0d0887"
             ],
             [
              0.1111111111111111,
              "#46039f"
             ],
             [
              0.2222222222222222,
              "#7201a8"
             ],
             [
              0.3333333333333333,
              "#9c179e"
             ],
             [
              0.4444444444444444,
              "#bd3786"
             ],
             [
              0.5555555555555556,
              "#d8576b"
             ],
             [
              0.6666666666666666,
              "#ed7953"
             ],
             [
              0.7777777777777778,
              "#fb9f3a"
             ],
             [
              0.8888888888888888,
              "#fdca26"
             ],
             [
              1,
              "#f0f921"
             ]
            ],
            "type": "contour"
           }
          ],
          "contourcarpet": [
           {
            "colorbar": {
             "outlinewidth": 0,
             "ticks": ""
            },
            "type": "contourcarpet"
           }
          ],
          "heatmap": [
           {
            "colorbar": {
             "outlinewidth": 0,
             "ticks": ""
            },
            "colorscale": [
             [
              0,
              "#0d0887"
             ],
             [
              0.1111111111111111,
              "#46039f"
             ],
             [
              0.2222222222222222,
              "#7201a8"
             ],
             [
              0.3333333333333333,
              "#9c179e"
             ],
             [
              0.4444444444444444,
              "#bd3786"
             ],
             [
              0.5555555555555556,
              "#d8576b"
             ],
             [
              0.6666666666666666,
              "#ed7953"
             ],
             [
              0.7777777777777778,
              "#fb9f3a"
             ],
             [
              0.8888888888888888,
              "#fdca26"
             ],
             [
              1,
              "#f0f921"
             ]
            ],
            "type": "heatmap"
           }
          ],
          "histogram": [
           {
            "marker": {
             "pattern": {
              "fillmode": "overlay",
              "size": 10,
              "solidity": 0.2
             }
            },
            "type": "histogram"
           }
          ],
          "histogram2d": [
           {
            "colorbar": {
             "outlinewidth": 0,
             "ticks": ""
            },
            "colorscale": [
             [
              0,
              "#0d0887"
             ],
             [
              0.1111111111111111,
              "#46039f"
             ],
             [
              0.2222222222222222,
              "#7201a8"
             ],
             [
              0.3333333333333333,
              "#9c179e"
             ],
             [
              0.4444444444444444,
              "#bd3786"
             ],
             [
              0.5555555555555556,
              "#d8576b"
             ],
             [
              0.6666666666666666,
              "#ed7953"
             ],
             [
              0.7777777777777778,
              "#fb9f3a"
             ],
             [
              0.8888888888888888,
              "#fdca26"
             ],
             [
              1,
              "#f0f921"
             ]
            ],
            "type": "histogram2d"
           }
          ],
          "histogram2dcontour": [
           {
            "colorbar": {
             "outlinewidth": 0,
             "ticks": ""
            },
            "colorscale": [
             [
              0,
              "#0d0887"
             ],
             [
              0.1111111111111111,
              "#46039f"
             ],
             [
              0.2222222222222222,
              "#7201a8"
             ],
             [
              0.3333333333333333,
              "#9c179e"
             ],
             [
              0.4444444444444444,
              "#bd3786"
             ],
             [
              0.5555555555555556,
              "#d8576b"
             ],
             [
              0.6666666666666666,
              "#ed7953"
             ],
             [
              0.7777777777777778,
              "#fb9f3a"
             ],
             [
              0.8888888888888888,
              "#fdca26"
             ],
             [
              1,
              "#f0f921"
             ]
            ],
            "type": "histogram2dcontour"
           }
          ],
          "mesh3d": [
           {
            "colorbar": {
             "outlinewidth": 0,
             "ticks": ""
            },
            "type": "mesh3d"
           }
          ],
          "parcoords": [
           {
            "line": {
             "colorbar": {
              "outlinewidth": 0,
              "ticks": ""
             }
            },
            "type": "parcoords"
           }
          ],
          "pie": [
           {
            "automargin": true,
            "type": "pie"
           }
          ],
          "scatter": [
           {
            "fillpattern": {
             "fillmode": "overlay",
             "size": 10,
             "solidity": 0.2
            },
            "type": "scatter"
           }
          ],
          "scatter3d": [
           {
            "line": {
             "colorbar": {
              "outlinewidth": 0,
              "ticks": ""
             }
            },
            "marker": {
             "colorbar": {
              "outlinewidth": 0,
              "ticks": ""
             }
            },
            "type": "scatter3d"
           }
          ],
          "scattercarpet": [
           {
            "marker": {
             "colorbar": {
              "outlinewidth": 0,
              "ticks": ""
             }
            },
            "type": "scattercarpet"
           }
          ],
          "scattergeo": [
           {
            "marker": {
             "colorbar": {
              "outlinewidth": 0,
              "ticks": ""
             }
            },
            "type": "scattergeo"
           }
          ],
          "scattergl": [
           {
            "marker": {
             "colorbar": {
              "outlinewidth": 0,
              "ticks": ""
             }
            },
            "type": "scattergl"
           }
          ],
          "scattermap": [
           {
            "marker": {
             "colorbar": {
              "outlinewidth": 0,
              "ticks": ""
             }
            },
            "type": "scattermap"
           }
          ],
          "scattermapbox": [
           {
            "marker": {
             "colorbar": {
              "outlinewidth": 0,
              "ticks": ""
             }
            },
            "type": "scattermapbox"
           }
          ],
          "scatterpolar": [
           {
            "marker": {
             "colorbar": {
              "outlinewidth": 0,
              "ticks": ""
             }
            },
            "type": "scatterpolar"
           }
          ],
          "scatterpolargl": [
           {
            "marker": {
             "colorbar": {
              "outlinewidth": 0,
              "ticks": ""
             }
            },
            "type": "scatterpolargl"
           }
          ],
          "scatterternary": [
           {
            "marker": {
             "colorbar": {
              "outlinewidth": 0,
              "ticks": ""
             }
            },
            "type": "scatterternary"
           }
          ],
          "surface": [
           {
            "colorbar": {
             "outlinewidth": 0,
             "ticks": ""
            },
            "colorscale": [
             [
              0,
              "#0d0887"
             ],
             [
              0.1111111111111111,
              "#46039f"
             ],
             [
              0.2222222222222222,
              "#7201a8"
             ],
             [
              0.3333333333333333,
              "#9c179e"
             ],
             [
              0.4444444444444444,
              "#bd3786"
             ],
             [
              0.5555555555555556,
              "#d8576b"
             ],
             [
              0.6666666666666666,
              "#ed7953"
             ],
             [
              0.7777777777777778,
              "#fb9f3a"
             ],
             [
              0.8888888888888888,
              "#fdca26"
             ],
             [
              1,
              "#f0f921"
             ]
            ],
            "type": "surface"
           }
          ],
          "table": [
           {
            "cells": {
             "fill": {
              "color": "#EBF0F8"
             },
             "line": {
              "color": "white"
             }
            },
            "header": {
             "fill": {
              "color": "#C8D4E3"
             },
             "line": {
              "color": "white"
             }
            },
            "type": "table"
           }
          ]
         },
         "layout": {
          "annotationdefaults": {
           "arrowcolor": "#2a3f5f",
           "arrowhead": 0,
           "arrowwidth": 1
          },
          "autotypenumbers": "strict",
          "coloraxis": {
           "colorbar": {
            "outlinewidth": 0,
            "ticks": ""
           }
          },
          "colorscale": {
           "diverging": [
            [
             0,
             "#8e0152"
            ],
            [
             0.1,
             "#c51b7d"
            ],
            [
             0.2,
             "#de77ae"
            ],
            [
             0.3,
             "#f1b6da"
            ],
            [
             0.4,
             "#fde0ef"
            ],
            [
             0.5,
             "#f7f7f7"
            ],
            [
             0.6,
             "#e6f5d0"
            ],
            [
             0.7,
             "#b8e186"
            ],
            [
             0.8,
             "#7fbc41"
            ],
            [
             0.9,
             "#4d9221"
            ],
            [
             1,
             "#276419"
            ]
           ],
           "sequential": [
            [
             0,
             "#0d0887"
            ],
            [
             0.1111111111111111,
             "#46039f"
            ],
            [
             0.2222222222222222,
             "#7201a8"
            ],
            [
             0.3333333333333333,
             "#9c179e"
            ],
            [
             0.4444444444444444,
             "#bd3786"
            ],
            [
             0.5555555555555556,
             "#d8576b"
            ],
            [
             0.6666666666666666,
             "#ed7953"
            ],
            [
             0.7777777777777778,
             "#fb9f3a"
            ],
            [
             0.8888888888888888,
             "#fdca26"
            ],
            [
             1,
             "#f0f921"
            ]
           ],
           "sequentialminus": [
            [
             0,
             "#0d0887"
            ],
            [
             0.1111111111111111,
             "#46039f"
            ],
            [
             0.2222222222222222,
             "#7201a8"
            ],
            [
             0.3333333333333333,
             "#9c179e"
            ],
            [
             0.4444444444444444,
             "#bd3786"
            ],
            [
             0.5555555555555556,
             "#d8576b"
            ],
            [
             0.6666666666666666,
             "#ed7953"
            ],
            [
             0.7777777777777778,
             "#fb9f3a"
            ],
            [
             0.8888888888888888,
             "#fdca26"
            ],
            [
             1,
             "#f0f921"
            ]
           ]
          },
          "colorway": [
           "#636efa",
           "#EF553B",
           "#00cc96",
           "#ab63fa",
           "#FFA15A",
           "#19d3f3",
           "#FF6692",
           "#B6E880",
           "#FF97FF",
           "#FECB52"
          ],
          "font": {
           "color": "#2a3f5f"
          },
          "geo": {
           "bgcolor": "white",
           "lakecolor": "white",
           "landcolor": "#E5ECF6",
           "showlakes": true,
           "showland": true,
           "subunitcolor": "white"
          },
          "hoverlabel": {
           "align": "left"
          },
          "hovermode": "closest",
          "mapbox": {
           "style": "light"
          },
          "paper_bgcolor": "white",
          "plot_bgcolor": "#E5ECF6",
          "polar": {
           "angularaxis": {
            "gridcolor": "white",
            "linecolor": "white",
            "ticks": ""
           },
           "bgcolor": "#E5ECF6",
           "radialaxis": {
            "gridcolor": "white",
            "linecolor": "white",
            "ticks": ""
           }
          },
          "scene": {
           "xaxis": {
            "backgroundcolor": "#E5ECF6",
            "gridcolor": "white",
            "gridwidth": 2,
            "linecolor": "white",
            "showbackground": true,
            "ticks": "",
            "zerolinecolor": "white"
           },
           "yaxis": {
            "backgroundcolor": "#E5ECF6",
            "gridcolor": "white",
            "gridwidth": 2,
            "linecolor": "white",
            "showbackground": true,
            "ticks": "",
            "zerolinecolor": "white"
           },
           "zaxis": {
            "backgroundcolor": "#E5ECF6",
            "gridcolor": "white",
            "gridwidth": 2,
            "linecolor": "white",
            "showbackground": true,
            "ticks": "",
            "zerolinecolor": "white"
           }
          },
          "shapedefaults": {
           "line": {
            "color": "#2a3f5f"
           }
          },
          "ternary": {
           "aaxis": {
            "gridcolor": "white",
            "linecolor": "white",
            "ticks": ""
           },
           "baxis": {
            "gridcolor": "white",
            "linecolor": "white",
            "ticks": ""
           },
           "bgcolor": "#E5ECF6",
           "caxis": {
            "gridcolor": "white",
            "linecolor": "white",
            "ticks": ""
           }
          },
          "title": {
           "x": 0.05
          },
          "xaxis": {
           "automargin": true,
           "gridcolor": "white",
           "linecolor": "white",
           "ticks": "",
           "title": {
            "standoff": 15
           },
           "zerolinecolor": "white",
           "zerolinewidth": 2
          },
          "yaxis": {
           "automargin": true,
           "gridcolor": "white",
           "linecolor": "white",
           "ticks": "",
           "title": {
            "standoff": 15
           },
           "zerolinecolor": "white",
           "zerolinewidth": 2
          }
         }
        },
        "title": {
         "text": "Interactive QWERTY Keyboard Usage Heatmap"
        },
        "width": 800,
        "xaxis": {
         "title": {
          "text": "Key Position (Column)"
         }
        },
        "yaxis": {
         "autorange": "reversed",
         "title": {
          "text": "Keyboard Row"
         }
        }
       }
      }
     },
     "metadata": {},
     "output_type": "display_data"
    }
   ],
   "source": [
    "# Create an interactive plotly heatmap\n",
    "def create_interactive_heatmap(keyboard_df):\n",
    "    # Prepare data for plotly\n",
    "    hover_text = []\n",
    "    for _, row in keyboard_df.iterrows():\n",
    "        hover_text.append(f\"Key: {row['key']}<br>Usage: {row['usage']}<br>Row: {row['row']}<br>Position: {row['col']}\")\n",
    "    \n",
    "    keyboard_df['hover_text'] = hover_text\n",
    "    \n",
    "    # Create the interactive heatmap\n",
    "    fig = go.Figure(data=go.Scatter(\n",
    "        x=keyboard_df['col'],\n",
    "        y=keyboard_df['row'],\n",
    "        mode='markers+text',\n",
    "        marker=dict(\n",
    "            size=30,\n",
    "            color=keyboard_df['usage'],\n",
    "            colorscale='Viridis',\n",
    "            showscale=True,\n",
    "            colorbar=dict(title=\"Usage Frequency\"),\n",
    "            line=dict(width=2, color='white')\n",
    "        ),\n",
    "        text=keyboard_df['key'],\n",
    "        textfont=dict(size=12, color='white'),\n",
    "        hovertext=keyboard_df['hover_text'],\n",
    "        hoverinfo='text'\n",
    "    ))\n",
    "    \n",
    "    fig.update_layout(\n",
    "        title='Interactive QWERTY Keyboard Usage Heatmap',\n",
    "        xaxis_title='Key Position (Column)',\n",
    "        yaxis_title='Keyboard Row',\n",
    "        yaxis=dict(autorange='reversed'),  # Reverse y-axis to match keyboard layout\n",
    "        width=800,\n",
    "        height=400,\n",
    "        showlegend=False\n",
    "    )\n",
    "    \n",
    "    return fig\n",
    "\n",
    "# Create and display interactive heatmap\n",
    "interactive_fig = create_interactive_heatmap(keyboard_df)\n",
    "interactive_fig.show()"
   ]
  }
 ],
 "metadata": {
  "kernelspec": {
   "display_name": "Python 3",
   "language": "python",
   "name": "python3"
  },
  "language_info": {
   "codemirror_mode": {
    "name": "ipython",
    "version": 3
   },
   "file_extension": ".py",
   "mimetype": "text/x-python",
   "name": "python",
   "nbconvert_exporter": "python",
   "pygments_lexer": "ipython3",
   "version": "3.13.3"
  }
 },
 "nbformat": 4,
 "nbformat_minor": 5
}
