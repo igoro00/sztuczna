{
 "cells": [
  {
   "cell_type": "code",
   "execution_count": 1,
   "metadata": {},
   "outputs": [],
   "source": [
    "def generate_random(c: int):\n",
    "    \"\"\"\n",
    "    Generate a random string of length c.\n",
    "    \"\"\"\n",
    "    import random\n",
    "    import string\n",
    "\n",
    "    # Generate a random string of length c\n",
    "    return ''.join(random.choices(string.ascii_letters, k=c)).lower()"
   ]
  },
  {
   "cell_type": "code",
   "execution_count": 2,
   "metadata": {},
   "outputs": [],
   "source": [
    "with open(\"random.txt\", \"w\") as f:\n",
    "    # Generate 1000 random strings of length 10\n",
    "    f.write(generate_random(32000))"
   ]
  }
 ],
 "metadata": {
  "kernelspec": {
   "display_name": "Python 3",
   "language": "python",
   "name": "python3"
  },
  "language_info": {
   "codemirror_mode": {
    "name": "ipython",
    "version": 3
   },
   "file_extension": ".py",
   "mimetype": "text/x-python",
   "name": "python",
   "nbconvert_exporter": "python",
   "pygments_lexer": "ipython3",
   "version": "3.13.3"
  }
 },
 "nbformat": 4,
 "nbformat_minor": 2
}
