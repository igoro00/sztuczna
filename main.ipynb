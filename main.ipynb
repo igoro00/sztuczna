{
 "cells": [
  {
   "cell_type": "code",
   "execution_count": 1,
   "metadata": {},
   "outputs": [
    {
     "name": "stderr",
     "output_type": "stream",
     "text": [
      "2025-05-20 00:23:30.885139: I external/local_xla/xla/tsl/cuda/cudart_stub.cc:31] Could not find cuda drivers on your machine, GPU will not be used.\n",
      "2025-05-20 00:23:30.927646: I tensorflow/core/platform/cpu_feature_guard.cc:210] This TensorFlow binary is optimized to use available CPU instructions in performance-critical operations.\n",
      "To enable the following instructions: AVX2 FMA, in other operations, rebuild TensorFlow with the appropriate compiler flags.\n",
      "2025-05-20 00:23:31.906581: I external/local_xla/xla/tsl/cuda/cudart_stub.cc:31] Could not find cuda drivers on your machine, GPU will not be used.\n"
     ]
    }
   ],
   "source": [
    "import tensorflow as tf\n",
    "import pandas as pd\n",
    "import numpy as np\n",
    "import matplotlib.pyplot as plt"
   ]
  },
  {
   "cell_type": "code",
   "execution_count": 2,
   "metadata": {},
   "outputs": [],
   "source": [
    "letters = ord('z') - ord('a') + 1\n",
    "blockSize = 32"
   ]
  },
  {
   "cell_type": "code",
   "execution_count": 3,
   "metadata": {},
   "outputs": [],
   "source": [
    "def sanitize_string(s):\n",
    "    # remove every non-alpha character\n",
    "    sanitized = ''.join(c for c in s if c.isalpha())\n",
    "    return sanitized.lower()"
   ]
  },
  {
   "cell_type": "code",
   "execution_count": 4,
   "metadata": {},
   "outputs": [],
   "source": [
    "def toWindows(s, blockSize=blockSize):\n",
    "    i = 0\n",
    "    out = []\n",
    "    while i < len(s)-blockSize:\n",
    "        block = s[i:i+blockSize]\n",
    "        i += 1\n",
    "        out.append(block)\n",
    "    return out\n"
   ]
  },
  {
   "cell_type": "code",
   "execution_count": 5,
   "metadata": {},
   "outputs": [],
   "source": [
    "def str_to_neurons(s):\n",
    "    # convert string to list of neurons\n",
    "    neurons = []\n",
    "    for c in s:\n",
    "        letter = [0]*letters\n",
    "        letter[ord(c)-ord('a')] = 1\n",
    "        neurons+=letter\n",
    "    return neurons"
   ]
  },
  {
   "cell_type": "code",
   "execution_count": 6,
   "metadata": {},
   "outputs": [],
   "source": [
    "s = None\n",
    "with open(\"smash.txt\", \"r\") as f:\n",
    "    s = toWindows(sanitize_string(f.read()), blockSize)"
   ]
  },
  {
   "cell_type": "code",
   "execution_count": 7,
   "metadata": {},
   "outputs": [],
   "source": [
    "r = None\n",
    "with open(\"random.txt\", \"r\") as f:\n",
    "    r = toWindows(sanitize_string(f.read()), blockSize)\n",
    "r = r[:len(s)]"
   ]
  },
  {
   "cell_type": "code",
   "execution_count": 8,
   "metadata": {},
   "outputs": [],
   "source": [
    "r = [(i, 0) for i in r]\n",
    "s = [(i, 1) for i in s]\n",
    "df = pd.DataFrame(r + s, columns=[\"text\", \"label\"])"
   ]
  },
  {
   "cell_type": "code",
   "execution_count": 9,
   "metadata": {},
   "outputs": [
    {
     "data": {
      "application/vnd.microsoft.datawrangler.viewer.v0+json": {
       "columns": [
        {
         "name": "index",
         "rawType": "int64",
         "type": "integer"
        },
        {
         "name": "text",
         "rawType": "object",
         "type": "string"
        },
        {
         "name": "label",
         "rawType": "int64",
         "type": "integer"
        }
       ],
       "conversionMethod": "pd.DataFrame",
       "ref": "1b4fc8fd-b0a4-424b-b65b-60116858ba3e",
       "rows": [
        [
         "0",
         "avsjutvuacikszktixeydrvzvwtsincy",
         "0"
        ],
        [
         "1",
         "vsjutvuacikszktixeydrvzvwtsincyn",
         "0"
        ],
        [
         "2",
         "sjutvuacikszktixeydrvzvwtsincynx",
         "0"
        ],
        [
         "3",
         "jutvuacikszktixeydrvzvwtsincynxc",
         "0"
        ],
        [
         "4",
         "utvuacikszktixeydrvzvwtsincynxcc",
         "0"
        ],
        [
         "5",
         "tvuacikszktixeydrvzvwtsincynxccp",
         "0"
        ],
        [
         "6",
         "vuacikszktixeydrvzvwtsincynxccpx",
         "0"
        ],
        [
         "7",
         "uacikszktixeydrvzvwtsincynxccpxl",
         "0"
        ],
        [
         "8",
         "acikszktixeydrvzvwtsincynxccpxlx",
         "0"
        ],
        [
         "9",
         "cikszktixeydrvzvwtsincynxccpxlxh",
         "0"
        ],
        [
         "10",
         "ikszktixeydrvzvwtsincynxccpxlxhw",
         "0"
        ],
        [
         "11",
         "kszktixeydrvzvwtsincynxccpxlxhwd",
         "0"
        ],
        [
         "12",
         "szktixeydrvzvwtsincynxccpxlxhwds",
         "0"
        ],
        [
         "13",
         "zktixeydrvzvwtsincynxccpxlxhwdss",
         "0"
        ],
        [
         "14",
         "ktixeydrvzvwtsincynxccpxlxhwdssd",
         "0"
        ],
        [
         "15",
         "tixeydrvzvwtsincynxccpxlxhwdssdn",
         "0"
        ],
        [
         "16",
         "ixeydrvzvwtsincynxccpxlxhwdssdnr",
         "0"
        ],
        [
         "17",
         "xeydrvzvwtsincynxccpxlxhwdssdnrt",
         "0"
        ],
        [
         "18",
         "eydrvzvwtsincynxccpxlxhwdssdnrta",
         "0"
        ],
        [
         "19",
         "ydrvzvwtsincynxccpxlxhwdssdnrtat",
         "0"
        ],
        [
         "20",
         "drvzvwtsincynxccpxlxhwdssdnrtatp",
         "0"
        ],
        [
         "21",
         "rvzvwtsincynxccpxlxhwdssdnrtatpm",
         "0"
        ],
        [
         "22",
         "vzvwtsincynxccpxlxhwdssdnrtatpmf",
         "0"
        ],
        [
         "23",
         "zvwtsincynxccpxlxhwdssdnrtatpmfl",
         "0"
        ],
        [
         "24",
         "vwtsincynxccpxlxhwdssdnrtatpmflz",
         "0"
        ],
        [
         "25",
         "wtsincynxccpxlxhwdssdnrtatpmflzb",
         "0"
        ],
        [
         "26",
         "tsincynxccpxlxhwdssdnrtatpmflzbx",
         "0"
        ],
        [
         "27",
         "sincynxccpxlxhwdssdnrtatpmflzbxm",
         "0"
        ],
        [
         "28",
         "incynxccpxlxhwdssdnrtatpmflzbxmm",
         "0"
        ],
        [
         "29",
         "ncynxccpxlxhwdssdnrtatpmflzbxmmb",
         "0"
        ],
        [
         "30",
         "cynxccpxlxhwdssdnrtatpmflzbxmmbg",
         "0"
        ],
        [
         "31",
         "ynxccpxlxhwdssdnrtatpmflzbxmmbgx",
         "0"
        ],
        [
         "32",
         "nxccpxlxhwdssdnrtatpmflzbxmmbgxj",
         "0"
        ],
        [
         "33",
         "xccpxlxhwdssdnrtatpmflzbxmmbgxjo",
         "0"
        ],
        [
         "34",
         "ccpxlxhwdssdnrtatpmflzbxmmbgxjol",
         "0"
        ],
        [
         "35",
         "cpxlxhwdssdnrtatpmflzbxmmbgxjolj",
         "0"
        ],
        [
         "36",
         "pxlxhwdssdnrtatpmflzbxmmbgxjolju",
         "0"
        ],
        [
         "37",
         "xlxhwdssdnrtatpmflzbxmmbgxjoljun",
         "0"
        ],
        [
         "38",
         "lxhwdssdnrtatpmflzbxmmbgxjoljunh",
         "0"
        ],
        [
         "39",
         "xhwdssdnrtatpmflzbxmmbgxjoljunhv",
         "0"
        ],
        [
         "40",
         "hwdssdnrtatpmflzbxmmbgxjoljunhvy",
         "0"
        ],
        [
         "41",
         "wdssdnrtatpmflzbxmmbgxjoljunhvyg",
         "0"
        ],
        [
         "42",
         "dssdnrtatpmflzbxmmbgxjoljunhvygq",
         "0"
        ],
        [
         "43",
         "ssdnrtatpmflzbxmmbgxjoljunhvygqi",
         "0"
        ],
        [
         "44",
         "sdnrtatpmflzbxmmbgxjoljunhvygqig",
         "0"
        ],
        [
         "45",
         "dnrtatpmflzbxmmbgxjoljunhvygqigk",
         "0"
        ],
        [
         "46",
         "nrtatpmflzbxmmbgxjoljunhvygqigkd",
         "0"
        ],
        [
         "47",
         "rtatpmflzbxmmbgxjoljunhvygqigkdu",
         "0"
        ],
        [
         "48",
         "tatpmflzbxmmbgxjoljunhvygqigkdup",
         "0"
        ],
        [
         "49",
         "atpmflzbxmmbgxjoljunhvygqigkdupx",
         "0"
        ]
       ],
       "shape": {
        "columns": 2,
        "rows": 1714
       }
      },
      "text/html": [
       "<div>\n",
       "<style scoped>\n",
       "    .dataframe tbody tr th:only-of-type {\n",
       "        vertical-align: middle;\n",
       "    }\n",
       "\n",
       "    .dataframe tbody tr th {\n",
       "        vertical-align: top;\n",
       "    }\n",
       "\n",
       "    .dataframe thead th {\n",
       "        text-align: right;\n",
       "    }\n",
       "</style>\n",
       "<table border=\"1\" class=\"dataframe\">\n",
       "  <thead>\n",
       "    <tr style=\"text-align: right;\">\n",
       "      <th></th>\n",
       "      <th>text</th>\n",
       "      <th>label</th>\n",
       "    </tr>\n",
       "  </thead>\n",
       "  <tbody>\n",
       "    <tr>\n",
       "      <th>0</th>\n",
       "      <td>avsjutvuacikszktixeydrvzvwtsincy</td>\n",
       "      <td>0</td>\n",
       "    </tr>\n",
       "    <tr>\n",
       "      <th>1</th>\n",
       "      <td>vsjutvuacikszktixeydrvzvwtsincyn</td>\n",
       "      <td>0</td>\n",
       "    </tr>\n",
       "    <tr>\n",
       "      <th>2</th>\n",
       "      <td>sjutvuacikszktixeydrvzvwtsincynx</td>\n",
       "      <td>0</td>\n",
       "    </tr>\n",
       "    <tr>\n",
       "      <th>3</th>\n",
       "      <td>jutvuacikszktixeydrvzvwtsincynxc</td>\n",
       "      <td>0</td>\n",
       "    </tr>\n",
       "    <tr>\n",
       "      <th>4</th>\n",
       "      <td>utvuacikszktixeydrvzvwtsincynxcc</td>\n",
       "      <td>0</td>\n",
       "    </tr>\n",
       "    <tr>\n",
       "      <th>...</th>\n",
       "      <td>...</td>\n",
       "      <td>...</td>\n",
       "    </tr>\n",
       "    <tr>\n",
       "      <th>1709</th>\n",
       "      <td>nwbevtcwnebvcrtnbvwetcrnwbvecrtn</td>\n",
       "      <td>1</td>\n",
       "    </tr>\n",
       "    <tr>\n",
       "      <th>1710</th>\n",
       "      <td>wbevtcwnebvcrtnbvwetcrnwbvecrtnw</td>\n",
       "      <td>1</td>\n",
       "    </tr>\n",
       "    <tr>\n",
       "      <th>1711</th>\n",
       "      <td>bevtcwnebvcrtnbvwetcrnwbvecrtnwe</td>\n",
       "      <td>1</td>\n",
       "    </tr>\n",
       "    <tr>\n",
       "      <th>1712</th>\n",
       "      <td>evtcwnebvcrtnbvwetcrnwbvecrtnweb</td>\n",
       "      <td>1</td>\n",
       "    </tr>\n",
       "    <tr>\n",
       "      <th>1713</th>\n",
       "      <td>vtcwnebvcrtnbvwetcrnwbvecrtnwebt</td>\n",
       "      <td>1</td>\n",
       "    </tr>\n",
       "  </tbody>\n",
       "</table>\n",
       "<p>1714 rows × 2 columns</p>\n",
       "</div>"
      ],
      "text/plain": [
       "                                  text  label\n",
       "0     avsjutvuacikszktixeydrvzvwtsincy      0\n",
       "1     vsjutvuacikszktixeydrvzvwtsincyn      0\n",
       "2     sjutvuacikszktixeydrvzvwtsincynx      0\n",
       "3     jutvuacikszktixeydrvzvwtsincynxc      0\n",
       "4     utvuacikszktixeydrvzvwtsincynxcc      0\n",
       "...                                ...    ...\n",
       "1709  nwbevtcwnebvcrtnbvwetcrnwbvecrtn      1\n",
       "1710  wbevtcwnebvcrtnbvwetcrnwbvecrtnw      1\n",
       "1711  bevtcwnebvcrtnbvwetcrnwbvecrtnwe      1\n",
       "1712  evtcwnebvcrtnbvwetcrnwbvecrtnweb      1\n",
       "1713  vtcwnebvcrtnbvwetcrnwbvecrtnwebt      1\n",
       "\n",
       "[1714 rows x 2 columns]"
      ]
     },
     "execution_count": 9,
     "metadata": {},
     "output_type": "execute_result"
    }
   ],
   "source": [
    "df"
   ]
  },
  {
   "cell_type": "code",
   "execution_count": 10,
   "metadata": {},
   "outputs": [],
   "source": [
    "data = np.array(df[\"text\"].apply(str_to_neurons).tolist())\n",
    "labels = df[\"label\"].values"
   ]
  },
  {
   "cell_type": "code",
   "execution_count": 11,
   "metadata": {},
   "outputs": [
    {
     "data": {
      "text/plain": [
       "array([[1, 0, 0, ..., 0, 1, 0],\n",
       "       [0, 0, 0, ..., 0, 0, 0],\n",
       "       [0, 0, 0, ..., 1, 0, 0],\n",
       "       ...,\n",
       "       [0, 1, 0, ..., 0, 0, 0],\n",
       "       [0, 0, 0, ..., 0, 0, 0],\n",
       "       [0, 0, 0, ..., 0, 0, 0]])"
      ]
     },
     "execution_count": 11,
     "metadata": {},
     "output_type": "execute_result"
    }
   ],
   "source": [
    "data"
   ]
  },
  {
   "cell_type": "code",
   "execution_count": 12,
   "metadata": {},
   "outputs": [
    {
     "name": "stderr",
     "output_type": "stream",
     "text": [
      "2025-05-20 00:23:32.795790: E external/local_xla/xla/stream_executor/cuda/cuda_platform.cc:51] failed call to cuInit: INTERNAL: CUDA error: Failed call to cuInit: UNKNOWN ERROR (303)\n"
     ]
    }
   ],
   "source": [
    "model = tf.keras.Sequential([\n",
    "    tf.keras.layers.Input(shape=(blockSize*letters,)),\n",
    "    tf.keras.layers.Dense(1024, activation='relu'),\n",
    "    tf.keras.layers.Dense(1024, activation='relu'),\n",
    "    tf.keras.layers.Dense(1024, activation='relu'),\n",
    "    tf.keras.layers.Dense(2, activation='relu'),\n",
    "])"
   ]
  },
  {
   "cell_type": "code",
   "execution_count": 13,
   "metadata": {},
   "outputs": [],
   "source": [
    "model.compile(\n",
    "    optimizer='adam',\n",
    "    loss=tf.keras.losses.SparseCategoricalCrossentropy(from_logits=True),\n",
    "    metrics=['accuracy'],\n",
    ")"
   ]
  },
  {
   "cell_type": "code",
   "execution_count": 16,
   "metadata": {},
   "outputs": [
    {
     "name": "stdout",
     "output_type": "stream",
     "text": [
      "Epoch 1/20\n",
      "\u001b[1m51/51\u001b[0m \u001b[32m━━━━━━━━━━━━━━━━━━━━\u001b[0m\u001b[37m\u001b[0m \u001b[1m1s\u001b[0m 22ms/step - accuracy: 1.0000 - loss: 5.3718e-06 - val_accuracy: 0.8721 - val_loss: 0.4345\n",
      "Epoch 2/20\n",
      "\u001b[1m51/51\u001b[0m \u001b[32m━━━━━━━━━━━━━━━━━━━━\u001b[0m\u001b[37m\u001b[0m \u001b[1m1s\u001b[0m 20ms/step - accuracy: 1.0000 - loss: 4.8512e-06 - val_accuracy: 0.8721 - val_loss: 0.4413\n",
      "Epoch 3/20\n",
      "\u001b[1m51/51\u001b[0m \u001b[32m━━━━━━━━━━━━━━━━━━━━\u001b[0m\u001b[37m\u001b[0m \u001b[1m1s\u001b[0m 20ms/step - accuracy: 1.0000 - loss: 3.7862e-06 - val_accuracy: 0.8721 - val_loss: 0.4450\n",
      "Epoch 4/20\n",
      "\u001b[1m51/51\u001b[0m \u001b[32m━━━━━━━━━━━━━━━━━━━━\u001b[0m\u001b[37m\u001b[0m \u001b[1m1s\u001b[0m 21ms/step - accuracy: 1.0000 - loss: 3.6259e-06 - val_accuracy: 0.8605 - val_loss: 0.4490\n",
      "Epoch 5/20\n",
      "\u001b[1m51/51\u001b[0m \u001b[32m━━━━━━━━━━━━━━━━━━━━\u001b[0m\u001b[37m\u001b[0m \u001b[1m1s\u001b[0m 19ms/step - accuracy: 1.0000 - loss: 3.7239e-06 - val_accuracy: 0.8605 - val_loss: 0.4500\n",
      "Epoch 6/20\n",
      "\u001b[1m51/51\u001b[0m \u001b[32m━━━━━━━━━━━━━━━━━━━━\u001b[0m\u001b[37m\u001b[0m \u001b[1m1s\u001b[0m 21ms/step - accuracy: 1.0000 - loss: 3.3832e-06 - val_accuracy: 0.8605 - val_loss: 0.4559\n",
      "Epoch 7/20\n",
      "\u001b[1m51/51\u001b[0m \u001b[32m━━━━━━━━━━━━━━━━━━━━\u001b[0m\u001b[37m\u001b[0m \u001b[1m1s\u001b[0m 19ms/step - accuracy: 1.0000 - loss: 2.9467e-06 - val_accuracy: 0.8605 - val_loss: 0.4585\n",
      "Epoch 8/20\n",
      "\u001b[1m51/51\u001b[0m \u001b[32m━━━━━━━━━━━━━━━━━━━━\u001b[0m\u001b[37m\u001b[0m \u001b[1m1s\u001b[0m 20ms/step - accuracy: 1.0000 - loss: 2.8758e-06 - val_accuracy: 0.8605 - val_loss: 0.4634\n",
      "Epoch 9/20\n",
      "\u001b[1m51/51\u001b[0m \u001b[32m━━━━━━━━━━━━━━━━━━━━\u001b[0m\u001b[37m\u001b[0m \u001b[1m1s\u001b[0m 21ms/step - accuracy: 1.0000 - loss: 2.2938e-06 - val_accuracy: 0.8488 - val_loss: 0.4672\n",
      "Epoch 10/20\n",
      "\u001b[1m51/51\u001b[0m \u001b[32m━━━━━━━━━━━━━━━━━━━━\u001b[0m\u001b[37m\u001b[0m \u001b[1m1s\u001b[0m 20ms/step - accuracy: 1.0000 - loss: 2.3002e-06 - val_accuracy: 0.8488 - val_loss: 0.4706\n",
      "Epoch 11/20\n",
      "\u001b[1m51/51\u001b[0m \u001b[32m━━━━━━━━━━━━━━━━━━━━\u001b[0m\u001b[37m\u001b[0m \u001b[1m1s\u001b[0m 20ms/step - accuracy: 1.0000 - loss: 2.4173e-06 - val_accuracy: 0.8488 - val_loss: 0.4733\n",
      "Epoch 12/20\n",
      "\u001b[1m51/51\u001b[0m \u001b[32m━━━━━━━━━━━━━━━━━━━━\u001b[0m\u001b[37m\u001b[0m \u001b[1m1s\u001b[0m 20ms/step - accuracy: 1.0000 - loss: 1.7779e-06 - val_accuracy: 0.8488 - val_loss: 0.4775\n",
      "Epoch 13/20\n",
      "\u001b[1m51/51\u001b[0m \u001b[32m━━━━━━━━━━━━━━━━━━━━\u001b[0m\u001b[37m\u001b[0m \u001b[1m1s\u001b[0m 20ms/step - accuracy: 1.0000 - loss: 2.0422e-06 - val_accuracy: 0.8488 - val_loss: 0.4796\n",
      "Epoch 14/20\n",
      "\u001b[1m51/51\u001b[0m \u001b[32m━━━━━━━━━━━━━━━━━━━━\u001b[0m\u001b[37m\u001b[0m \u001b[1m1s\u001b[0m 21ms/step - accuracy: 1.0000 - loss: 1.8900e-06 - val_accuracy: 0.8488 - val_loss: 0.4820\n",
      "Epoch 15/20\n",
      "\u001b[1m51/51\u001b[0m \u001b[32m━━━━━━━━━━━━━━━━━━━━\u001b[0m\u001b[37m\u001b[0m \u001b[1m1s\u001b[0m 21ms/step - accuracy: 1.0000 - loss: 1.6495e-06 - val_accuracy: 0.8488 - val_loss: 0.4876\n",
      "Epoch 16/20\n",
      "\u001b[1m51/51\u001b[0m \u001b[32m━━━━━━━━━━━━━━━━━━━━\u001b[0m\u001b[37m\u001b[0m \u001b[1m1s\u001b[0m 20ms/step - accuracy: 1.0000 - loss: 1.3455e-06 - val_accuracy: 0.8488 - val_loss: 0.4888\n",
      "Epoch 17/20\n",
      "\u001b[1m51/51\u001b[0m \u001b[32m━━━━━━━━━━━━━━━━━━━━\u001b[0m\u001b[37m\u001b[0m \u001b[1m1s\u001b[0m 20ms/step - accuracy: 1.0000 - loss: 1.7489e-06 - val_accuracy: 0.8488 - val_loss: 0.4927\n",
      "Epoch 18/20\n",
      "\u001b[1m51/51\u001b[0m \u001b[32m━━━━━━━━━━━━━━━━━━━━\u001b[0m\u001b[37m\u001b[0m \u001b[1m1s\u001b[0m 21ms/step - accuracy: 1.0000 - loss: 1.3058e-06 - val_accuracy: 0.8488 - val_loss: 0.4939\n",
      "Epoch 19/20\n",
      "\u001b[1m51/51\u001b[0m \u001b[32m━━━━━━━━━━━━━━━━━━━━\u001b[0m\u001b[37m\u001b[0m \u001b[1m1s\u001b[0m 19ms/step - accuracy: 1.0000 - loss: 1.4191e-06 - val_accuracy: 0.8488 - val_loss: 0.4987\n",
      "Epoch 20/20\n",
      "\u001b[1m51/51\u001b[0m \u001b[32m━━━━━━━━━━━━━━━━━━━━\u001b[0m\u001b[37m\u001b[0m \u001b[1m1s\u001b[0m 22ms/step - accuracy: 1.0000 - loss: 1.2236e-06 - val_accuracy: 0.8488 - val_loss: 0.5014\n"
     ]
    }
   ],
   "source": [
    "history = model.fit(\n",
    "    data,\n",
    "    labels,\n",
    "    epochs=20,\n",
    "    batch_size=32,\n",
    "    validation_split=0.05,\n",
    ")"
   ]
  },
  {
   "cell_type": "code",
   "execution_count": 17,
   "metadata": {},
   "outputs": [
    {
     "data": {
      "image/png": "[encoded data removed]",
      "text/plain": [
       "<Figure size 640x480 with 1 Axes>"
      ]
     },
     "metadata": {},
     "output_type": "display_data"
    }
   ],
   "source": [
    "plt.figure()\n",
    "plt.plot(history.history['accuracy'], label='accuracy')\n",
    "plt.plot(history.history['val_accuracy'], label='val_accuracy')\n",
    "plt.xlabel('Epoch')\n",
    "plt.ylabel('Accuracy')\n",
    "plt.ylim([0, 1])\n",
    "plt.legend(loc='lower right')\n",
    "plt.show()\n"
   ]
  },
  {
   "cell_type": "code",
   "execution_count": 24,
   "metadata": {},
   "outputs": [
    {
     "data": {
      "text/plain": [
       "array([[0, 0, 0, 0, 0, 0, 0, 0, 0, 0, 0, 0, 0, 0, 1, 0, 0, 0, 0, 0, 0, 0,\n",
       "        0, 0, 0, 0, 0, 0, 0, 0, 1, 0, 0, 0, 0, 0, 0, 0, 0, 0, 0, 0, 0, 0,\n",
       "        0, 0, 0, 0, 0, 0, 0, 0, 0, 0, 0, 0, 0, 0, 0, 0, 1, 0, 0, 0, 0, 0,\n",
       "        0, 0, 0, 0, 0, 0, 0, 0, 0, 0, 0, 0, 0, 0, 0, 0, 0, 0, 0, 0, 0, 0,\n",
       "        0, 0, 0, 0, 0, 0, 0, 1, 0, 0, 0, 0, 0, 0, 0, 0, 0, 0, 0, 0, 0, 0,\n",
       "        0, 0, 0, 0, 0, 0, 0, 0, 0, 1, 0, 0, 0, 0, 0, 0, 0, 0, 0, 0, 0, 0,\n",
       "        0, 0, 0, 0, 0, 0, 0, 0, 0, 0, 0, 0, 1, 0, 0, 0, 0, 0, 0, 0, 0, 0,\n",
       "        0, 0, 0, 0, 0, 0, 0, 0, 0, 0, 0, 0, 0, 0, 0, 0, 0, 0, 0, 0, 0, 0,\n",
       "        0, 0, 1, 0, 0, 0, 0, 0, 0, 0, 0, 0, 0, 0, 1, 0, 0, 0, 0, 0, 0, 0,\n",
       "        0, 0, 0, 0, 0, 0, 0, 0, 0, 0, 0, 0, 0, 0, 1, 0, 0, 0, 0, 0, 0, 0,\n",
       "        0, 0, 0, 0, 0, 0, 0, 0, 0, 0, 0, 0, 0, 0, 0, 0, 0, 0, 0, 0, 0, 0,\n",
       "        0, 0, 0, 0, 0, 0, 1, 0, 0, 0, 0, 0, 0, 0, 0, 0, 0, 0, 0, 0, 0, 0,\n",
       "        0, 0, 0, 0, 1, 0, 0, 0, 0, 0, 0, 0, 0, 0, 0, 0, 0, 0, 0, 0, 0, 0,\n",
       "        0, 0, 0, 0, 0, 1, 0, 0, 0, 0, 0, 0, 0, 0, 0, 0, 0, 0, 0, 0, 0, 0,\n",
       "        0, 0, 0, 0, 0, 0, 0, 0, 0, 0, 0, 0, 0, 0, 0, 0, 0, 0, 1, 0, 0, 0,\n",
       "        0, 0, 0, 0, 0, 0, 0, 0, 0, 0, 0, 0, 0, 1, 0, 0, 0, 0, 0, 0, 0, 0,\n",
       "        0, 0, 0, 0, 0, 0, 0, 0, 0, 0, 0, 0, 0, 0, 0, 0, 0, 0, 0, 0, 0, 0,\n",
       "        0, 0, 0, 0, 1, 0, 0, 0, 0, 0, 0, 0, 0, 0, 0, 0, 0, 0, 0, 1, 0, 0,\n",
       "        0, 0, 0, 0, 0, 0, 0, 0, 0, 0, 0, 0, 0, 0, 0, 0, 0, 0, 0, 0, 0, 0,\n",
       "        0, 0, 0, 0, 0, 0, 0, 1, 0, 0, 0, 0, 0, 0, 0, 0, 0, 0, 0, 0, 0, 0,\n",
       "        0, 0, 0, 0, 0, 0, 0, 1, 0, 0, 0, 0, 0, 0, 0, 0, 0, 0, 0, 0, 0, 0,\n",
       "        0, 0, 0, 0, 0, 0, 0, 0, 0, 0, 0, 0, 0, 0, 1, 0, 0, 0, 0, 0, 0, 0,\n",
       "        0, 0, 0, 0, 0, 0, 0, 0, 0, 0, 0, 0, 0, 0, 0, 0, 0, 0, 0, 1, 0, 0,\n",
       "        0, 0, 0, 0, 0, 0, 0, 0, 0, 0, 0, 0, 0, 0, 0, 0, 0, 1, 0, 0, 0, 0,\n",
       "        0, 0, 0, 0, 0, 0, 0, 0, 0, 0, 0, 0, 0, 0, 0, 0, 0, 0, 0, 0, 0, 0,\n",
       "        0, 0, 0, 0, 0, 0, 0, 0, 0, 0, 0, 0, 0, 0, 1, 0, 0, 0, 0, 0, 0, 0,\n",
       "        0, 0, 0, 0, 0, 1, 0, 0, 0, 0, 0, 0, 0, 0, 0, 0, 0, 0, 0, 0, 0, 0,\n",
       "        0, 0, 0, 0, 0, 0, 0, 0, 0, 0, 0, 0, 0, 1, 0, 0, 0, 0, 0, 0, 0, 0,\n",
       "        0, 0, 0, 0, 0, 0, 0, 0, 0, 0, 0, 1, 0, 0, 0, 0, 0, 0, 0, 0, 0, 0,\n",
       "        0, 0, 0, 0, 0, 0, 0, 0, 0, 0, 0, 0, 0, 0, 0, 0, 0, 0, 0, 0, 0, 0,\n",
       "        0, 0, 0, 0, 0, 0, 0, 0, 1, 0, 0, 0, 0, 0, 0, 0, 0, 0, 0, 0, 0, 0,\n",
       "        0, 0, 0, 0, 1, 0, 0, 0, 0, 0, 0, 0, 0, 0, 0, 0, 0, 0, 0, 0, 0, 0,\n",
       "        0, 0, 0, 0, 0, 0, 0, 1, 0, 0, 0, 0, 0, 0, 0, 0, 0, 0, 0, 0, 0, 0,\n",
       "        0, 0, 0, 0, 1, 0, 0, 0, 0, 0, 0, 0, 0, 0, 0, 0, 0, 0, 0, 0, 0, 0,\n",
       "        0, 0, 0, 0, 0, 0, 0, 0, 0, 0, 0, 0, 0, 0, 0, 0, 1, 0, 0, 0, 0, 0,\n",
       "        0, 0, 0, 0, 0, 0, 0, 0, 0, 0, 0, 0, 0, 0, 0, 0, 0, 0, 0, 0, 0, 0,\n",
       "        0, 1, 0, 0, 0, 0, 0, 0, 0, 0, 0, 0, 0, 0, 0, 0, 0, 0, 0, 0, 0, 0,\n",
       "        0, 0, 0, 0, 0, 0, 0, 0, 0, 0, 0, 0, 0, 0, 0, 1, 0, 0]])"
      ]
     },
     "execution_count": 24,
     "metadata": {},
     "output_type": "execute_result"
    }
   ],
   "source": [
    "test_str = \"oeirpowieoifofodjfijdsfjdskjcknxjcjxzcjnxcjzcjbhehdguewhudheidioejdwejdewl;kdlekdledewddeededed\"[:blockSize]\n",
    "test_arr = np.array([str_to_neurons(sanitize_string(test_str))])\n",
    "test_arr"
   ]
  },
  {
   "cell_type": "code",
   "execution_count": 25,
   "metadata": {},
   "outputs": [
    {
     "name": "stdout",
     "output_type": "stream",
     "text": [
      "\u001b[1m1/1\u001b[0m \u001b[32m━━━━━━━━━━━━━━━━━━━━\u001b[0m\u001b[37m\u001b[0m \u001b[1m0s\u001b[0m 20ms/step\n"
     ]
    },
    {
     "data": {
      "text/plain": [
       "array([[ 0.      , 19.468298]], dtype=float32)"
      ]
     },
     "execution_count": 25,
     "metadata": {},
     "output_type": "execute_result"
    }
   ],
   "source": [
    "model.predict(test_arr)"
   ]
  }
 ],
 "metadata": {
  "kernelspec": {
   "display_name": "venv",
   "language": "python",
   "name": "python3"
  },
  "language_info": {
   "codemirror_mode": {
    "name": "ipython",
    "version": 3
   },
   "file_extension": ".py",
   "mimetype": "text/x-python",
   "name": "python",
   "nbconvert_exporter": "python",
   "pygments_lexer": "ipython3",
   "version": "3.13.3"
  }
 },
 "nbformat": 4,
 "nbformat_minor": 2
}
