{
 "cells": [
  {
   "cell_type": "code",
   "execution_count": null,
   "metadata": {},
   "outputs": [],
   "source": [
    "import numpy as np"
   ]
  },
  {
   "cell_type": "code",
   "execution_count": null,
   "metadata": {},
   "outputs": [],
   "source": [
    "neurons = [4,4,3]"
   ]
  },
  {
   "cell_type": "code",
   "execution_count": null,
   "metadata": {},
   "outputs": [],
   "source": [
    "def get_weights(lines: str):\n",
    "    weights = []\n",
    "    for line in lines:\n",
    "        weights.append(np.fromstring(line, dtype=float, sep=' '))\n",
    "    return weights\n",
    "def set_weights(layers: list[np.ndarray]):\n",
    "    lines = []\n",
    "    for layer in layers:\n",
    "        lines.append(str(layer))\n",
    "    return lines"
   ]
  },
  {
   "cell_type": "code",
   "execution_count": null,
   "metadata": {},
   "outputs": [],
   "source": [
    "weights = None\n",
    "filename = \"weights.npy\"\n",
    "try:\n",
    "    weights = np.load(filename)\n",
    "except:\n",
    "    weights = np.zeros((len(neurons)-1, max(neurons), max(neurons)))\n",
    "    for i in range(len(weights)):\n",
    "        layer = np.random.rand(neurons[i+1], neurons[i])\n",
    "        layer.resize(max(neurons), max(neurons))\n",
    "        weights[i] = layer\n",
    "weights"
   ]
  },
  {
   "cell_type": "code",
   "execution_count": null,
   "metadata": {},
   "outputs": [],
   "source": [
    "from sklearn import datasets, preprocessing\n",
    "iris = datasets.load_iris()\n",
    "data = preprocessing.normalize(iris.data)\n",
    "iris.target"
   ]
  },
  {
   "cell_type": "code",
   "execution_count": null,
   "metadata": {},
   "outputs": [],
   "source": [
    "# run inference\n",
    "\n",
    "def activation(x):\n",
    "    return (1 / (1+np.pow(np.e, -x)))\n",
    "\n",
    "sample = data[0]\n",
    "for (i,layer) in enumerate(weights):\n",
    "    sample.resize(max(neurons))\n",
    "    sample = np.matmul(layer, sample)\n",
    "    sample.resize(neurons[i+1])\n",
    "    sample = activation(sample)\n",
    "print(sample)"
   ]
  },
  {
   "cell_type": "code",
   "execution_count": null,
   "metadata": {},
   "outputs": [],
   "source": [
    "np.save(filename, weights)"
   ]
  },
  {
   "cell_type": "code",
   "execution_count": null,
   "metadata": {},
   "outputs": [],
   "source": []
  }
 ],
 "metadata": {
  "kernelspec": {
   "display_name": "Python 3",
   "language": "python",
   "name": "python3"
  },
  "language_info": {
   "codemirror_mode": {
    "name": "ipython",
    "version": 3
   },
   "file_extension": ".py",
   "mimetype": "text/x-python",
   "name": "python",
   "nbconvert_exporter": "python",
   "pygments_lexer": "ipython3",
   "version": "3.13.3"
  }
 },
 "nbformat": 4,
 "nbformat_minor": 2
}
