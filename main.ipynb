{
 "cells": [
  {
   "cell_type": "code",
   "execution_count": 1,
   "metadata": {},
   "outputs": [],
   "source": [
    "import torch\n",
    "from torch import nn, optim\n",
    "import pandas as pd\n",
    "import numpy as np\n",
    "import matplotlib.pyplot as plt\n",
    "from tqdm import tqdm"
   ]
  },
  {
   "cell_type": "code",
   "execution_count": 2,
   "metadata": {},
   "outputs": [],
   "source": [
    "blockSize = 32"
   ]
  },
  {
   "cell_type": "code",
   "execution_count": 3,
   "metadata": {},
   "outputs": [],
   "source": [
    "def sanitize_string(s):\n",
    "    # remove every non-alpha character\n",
    "    sanitized = ''.join(c for c in s.lower() if c.isalpha())\n",
    "    return sanitized.lower()"
   ]
  },
  {
   "cell_type": "code",
   "execution_count": 4,
   "metadata": {},
   "outputs": [],
   "source": [
    "def toWindows(s, blockSize=blockSize):\n",
    "    i = 0\n",
    "    out = []\n",
    "    while i < len(s)-blockSize:\n",
    "        block = s[i:i+blockSize]\n",
    "        i += 1\n",
    "        out.append(block)\n",
    "    return out\n"
   ]
  },
  {
   "cell_type": "code",
   "execution_count": 5,
   "metadata": {},
   "outputs": [],
   "source": [
    "from qwerty_map import keyboard_layout, dist, max_dist\n",
    "def str_to_neurons(s):\n",
    "    # convert string to list of neurons\n",
    "    usage_data = {}\n",
    "    for c in s:\n",
    "        if c not in usage_data:\n",
    "            usage_data[c] = 0\n",
    "        usage_data[c]+=1\n",
    "    for c in usage_data:\n",
    "        usage_data[c] = usage_data[c] / len(s)\n",
    "    neurons = np.zeros(ord('z') - ord('a') + 1 + len(s))\n",
    "    for c in range(ord('a'), ord('z') + 1):\n",
    "        if chr(c) in usage_data:\n",
    "            neurons[c - ord('a')] = usage_data[chr(c)]\n",
    "    last_char = s[0]\n",
    "    i = ord('z')- ord('a') + 1\n",
    "    for c in s:\n",
    "        neurons[i] = dist(last_char, c) / max_dist\n",
    "        last_char = c\n",
    "        i += 1\n",
    "    return neurons"
   ]
  },
  {
   "cell_type": "code",
   "execution_count": 6,
   "metadata": {},
   "outputs": [],
   "source": [
    "s = None\n",
    "with open(\"zlaczone.txt\", \"r\") as f:\n",
    "    s = toWindows(sanitize_string(f.read()), blockSize)"
   ]
  },
  {
   "cell_type": "code",
   "execution_count": 7,
   "metadata": {},
   "outputs": [],
   "source": [
    "r = None\n",
    "with open(\"random.txt\", \"r\") as f:\n",
    "    r = toWindows(sanitize_string(f.read()), blockSize)\n",
    "r = r[:len(s)]"
   ]
  },
  {
   "cell_type": "code",
   "execution_count": 8,
   "metadata": {},
   "outputs": [],
   "source": [
    "r = [(i, 0) for i in r]\n",
    "s = [(i, 1) for i in s]\n",
    "df = pd.DataFrame(r + s, columns=[\"text\", \"label\"])"
   ]
  },
  {
   "cell_type": "code",
   "execution_count": 9,
   "metadata": {},
   "outputs": [
    {
     "data": {
      "text/html": [
       "<div>\n",
       "<style scoped>\n",
       "    .dataframe tbody tr th:only-of-type {\n",
       "        vertical-align: middle;\n",
       "    }\n",
       "\n",
       "    .dataframe tbody tr th {\n",
       "        vertical-align: top;\n",
       "    }\n",
       "\n",
       "    .dataframe thead th {\n",
       "        text-align: right;\n",
       "    }\n",
       "</style>\n",
       "<table border=\"1\" class=\"dataframe\">\n",
       "  <thead>\n",
       "    <tr style=\"text-align: right;\">\n",
       "      <th></th>\n",
       "      <th>text</th>\n",
       "      <th>label</th>\n",
       "    </tr>\n",
       "  </thead>\n",
       "  <tbody>\n",
       "    <tr>\n",
       "      <th>0</th>\n",
       "      <td>avsjutvuacikszktixeydrvzvwtsincy</td>\n",
       "      <td>0</td>\n",
       "    </tr>\n",
       "    <tr>\n",
       "      <th>1</th>\n",
       "      <td>vsjutvuacikszktixeydrvzvwtsincyn</td>\n",
       "      <td>0</td>\n",
       "    </tr>\n",
       "    <tr>\n",
       "      <th>2</th>\n",
       "      <td>sjutvuacikszktixeydrvzvwtsincynx</td>\n",
       "      <td>0</td>\n",
       "    </tr>\n",
       "    <tr>\n",
       "      <th>3</th>\n",
       "      <td>jutvuacikszktixeydrvzvwtsincynxc</td>\n",
       "      <td>0</td>\n",
       "    </tr>\n",
       "    <tr>\n",
       "      <th>4</th>\n",
       "      <td>utvuacikszktixeydrvzvwtsincynxcc</td>\n",
       "      <td>0</td>\n",
       "    </tr>\n",
       "    <tr>\n",
       "      <th>...</th>\n",
       "      <td>...</td>\n",
       "      <td>...</td>\n",
       "    </tr>\n",
       "    <tr>\n",
       "      <th>17377</th>\n",
       "      <td>moenvrubvuhfsiuwpomnvlkjfsooidjv</td>\n",
       "      <td>1</td>\n",
       "    </tr>\n",
       "    <tr>\n",
       "      <th>17378</th>\n",
       "      <td>oenvrubvuhfsiuwpomnvlkjfsooidjvk</td>\n",
       "      <td>1</td>\n",
       "    </tr>\n",
       "    <tr>\n",
       "      <th>17379</th>\n",
       "      <td>envrubvuhfsiuwpomnvlkjfsooidjvkn</td>\n",
       "      <td>1</td>\n",
       "    </tr>\n",
       "    <tr>\n",
       "      <th>17380</th>\n",
       "      <td>nvrubvuhfsiuwpomnvlkjfsooidjvknv</td>\n",
       "      <td>1</td>\n",
       "    </tr>\n",
       "    <tr>\n",
       "      <th>17381</th>\n",
       "      <td>vrubvuhfsiuwpomnvlkjfsooidjvknvc</td>\n",
       "      <td>1</td>\n",
       "    </tr>\n",
       "  </tbody>\n",
       "</table>\n",
       "<p>17382 rows × 2 columns</p>\n",
       "</div>"
      ],
      "text/plain": [
       "                                   text  label\n",
       "0      avsjutvuacikszktixeydrvzvwtsincy      0\n",
       "1      vsjutvuacikszktixeydrvzvwtsincyn      0\n",
       "2      sjutvuacikszktixeydrvzvwtsincynx      0\n",
       "3      jutvuacikszktixeydrvzvwtsincynxc      0\n",
       "4      utvuacikszktixeydrvzvwtsincynxcc      0\n",
       "...                                 ...    ...\n",
       "17377  moenvrubvuhfsiuwpomnvlkjfsooidjv      1\n",
       "17378  oenvrubvuhfsiuwpomnvlkjfsooidjvk      1\n",
       "17379  envrubvuhfsiuwpomnvlkjfsooidjvkn      1\n",
       "17380  nvrubvuhfsiuwpomnvlkjfsooidjvknv      1\n",
       "17381  vrubvuhfsiuwpomnvlkjfsooidjvknvc      1\n",
       "\n",
       "[17382 rows x 2 columns]"
      ]
     },
     "execution_count": 9,
     "metadata": {},
     "output_type": "execute_result"
    }
   ],
   "source": [
    "df"
   ]
  },
  {
   "cell_type": "code",
   "execution_count": 10,
   "metadata": {},
   "outputs": [],
   "source": [
    "data = np.array(df[\"text\"].apply(str_to_neurons).tolist())\n",
    "labels = df[\"label\"].values"
   ]
  },
  {
   "cell_type": "code",
   "execution_count": 11,
   "metadata": {},
   "outputs": [
    {
     "name": "stdout",
     "output_type": "stream",
     "text": [
      "0\n"
     ]
    },
    {
     "data": {
      "text/plain": [
       "array([0.03125   , 0.        , 0.0625    , 0.03125   , 0.03125   ,\n",
       "       0.        , 0.        , 0.        , 0.09375   , 0.03125   ,\n",
       "       0.0625    , 0.        , 0.        , 0.0625    , 0.        ,\n",
       "       0.        , 0.        , 0.03125   , 0.09375   , 0.09375   ,\n",
       "       0.0625    , 0.125     , 0.03125   , 0.03125   , 0.0625    ,\n",
       "       0.0625    , 0.        , 0.29917582, 0.55555556, 0.11453071,\n",
       "       0.22222222, 0.2239516 , 0.33448874, 0.64847875, 0.29917582,\n",
       "       0.52189706, 0.11453071, 0.66666667, 0.124226  , 0.73071925,\n",
       "       0.37781863, 0.33333333, 0.62422792, 0.2239516 , 0.33333333,\n",
       "       0.32513055, 0.13888889, 0.23733344, 0.33333333, 0.33333333,\n",
       "       0.37781863, 0.33333333, 0.32513055, 0.64847875, 0.26205503,\n",
       "       0.33333333, 0.33448874, 0.23733344])"
      ]
     },
     "execution_count": 11,
     "metadata": {},
     "output_type": "execute_result"
    }
   ],
   "source": [
    "print(labels[1])\n",
    "data[1]"
   ]
  },
  {
   "cell_type": "code",
   "execution_count": 12,
   "metadata": {},
   "outputs": [],
   "source": [
    "X = torch.tensor(data, dtype=torch.float32)\n",
    "y = torch.tensor(labels, dtype=torch.long)"
   ]
  },
  {
   "cell_type": "code",
   "execution_count": 13,
   "metadata": {},
   "outputs": [],
   "source": [
    "# Split into train/val\n",
    "from sklearn.model_selection import train_test_split\n",
    "X_train, X_val, y_train, y_val = train_test_split(X, y, test_size=0.05, random_state=42)\n",
    "\n",
    "# Define the model\n",
    "class SimpleNN(nn.Module):\n",
    "    def __init__(self, input_dim):\n",
    "        super(SimpleNN, self).__init__()\n",
    "        self.fc1 = nn.Linear(input_dim, 32)\n",
    "        self.relu = nn.ReLU()\n",
    "        self.fc2 = nn.Linear(32, 2)\n",
    "\n",
    "    def forward(self, x):\n",
    "        x = self.fc1(x)\n",
    "        x = self.relu(x)\n",
    "        x = self.fc2(x)\n",
    "        return x\n",
    "\n",
    "model = SimpleNN(X.shape[1])"
   ]
  },
  {
   "cell_type": "code",
   "execution_count": 14,
   "metadata": {},
   "outputs": [],
   "source": [
    "# Loss and optimizer\n",
    "criterion = nn.CrossEntropyLoss()\n",
    "optimizer = optim.Adam(model.parameters(), lr=0.002)"
   ]
  },
  {
   "cell_type": "code",
   "execution_count": 15,
   "metadata": {},
   "outputs": [
    {
     "name": "stderr",
     "output_type": "stream",
     "text": [
      "100%|██████████| 100/100 [00:29<00:00,  3.36it/s]\n"
     ]
    }
   ],
   "source": [
    "# Training loop\n",
    "epochs = 100\n",
    "batch_size = 32\n",
    "train_accs = []\n",
    "val_accs = []\n",
    "\n",
    "for epoch in tqdm(range(epochs)):\n",
    "    model.train()\n",
    "    permutation = torch.randperm(X_train.size()[0])\n",
    "    for i in range(0, X_train.size()[0], batch_size):\n",
    "        indices = permutation[i:i+batch_size]\n",
    "        batch_x, batch_y = X_train[indices], y_train[indices]\n",
    "\n",
    "        optimizer.zero_grad()\n",
    "        outputs = model(batch_x)\n",
    "        loss = criterion(outputs, batch_y)\n",
    "        loss.backward()\n",
    "        optimizer.step()\n",
    "\n",
    "    # Accuracy\n",
    "    model.eval()\n",
    "    with torch.no_grad():\n",
    "        train_pred = model(X_train).argmax(dim=1)\n",
    "        train_acc = (train_pred == y_train).float().mean().item()\n",
    "        val_pred = model(X_val).argmax(dim=1)\n",
    "        val_acc = (val_pred == y_val).float().mean().item()\n",
    "        train_accs.append(train_acc)\n",
    "        val_accs.append(val_acc)\n",
    "\n"
   ]
  },
  {
   "cell_type": "code",
   "execution_count": 16,
   "metadata": {},
   "outputs": [
    {
     "data": {
      "image/png": "[encoded data removed]",
      "text/plain": [
       "<Figure size 640x480 with 1 Axes>"
      ]
     },
     "metadata": {},
     "output_type": "display_data"
    },
    {
     "name": "stdout",
     "output_type": "stream",
     "text": [
      "1.0 0.9965517520904541\n"
     ]
    }
   ],
   "source": [
    "# Plot accuracy\n",
    "plt.figure()\n",
    "plt.plot(train_accs, label='accuracy')\n",
    "plt.plot(val_accs, label='val_accuracy')\n",
    "plt.xlabel('Epoch')\n",
    "plt.ylabel('Accuracy')\n",
    "plt.ylim([0, 1])\n",
    "plt.legend(loc='lower right')\n",
    "plt.show()\n",
    "print(train_accs[-1], val_accs[-1])\n"
   ]
  },
  {
   "cell_type": "code",
   "execution_count": 20,
   "metadata": {},
   "outputs": [
    {
     "name": "stdout",
     "output_type": "stream",
     "text": [
      "[[0.03125    0.03125    0.03125    0.03125    0.0625     0.03125\n",
      "  0.03125    0.03125    0.0625     0.03125    0.03125    0.03125\n",
      "  0.03125    0.03125    0.0625     0.03125    0.03125    0.0625\n",
      "  0.03125    0.0625     0.0625     0.         0.03125    0.03125\n",
      "  0.0625     0.03125    0.         0.11453071 0.124226   0.11111111\n",
      "  0.124226   0.11453071 0.11111111 0.11453071 0.124226   0.124226\n",
      "  0.11453071 0.11111111 0.11453071 0.124226   0.11111111 0.124226\n",
      "  0.11453071 0.11111111 0.11453071 0.124226   0.124226   0.11453071\n",
      "  0.11111111 0.11453071 0.13888889 0.11111111 0.11111111 0.11111111\n",
      "  0.11111111 0.11111111 0.11111111 0.11111111]]\n",
      "Random 0.0\n",
      "Human 1.0\n"
     ]
    }
   ],
   "source": [
    "test_str = \"qazxswedcfrtgbnhyujmkiolpoiuytrewqasdfgh\"\n",
    "test_arr = np.array([str_to_neurons(sanitize_string(test_str)[:blockSize])])\n",
    "print(test_arr)\n",
    "test_tensor = torch.tensor(test_arr, dtype=torch.float32)\n",
    "model.eval()\n",
    "with torch.no_grad():\n",
    "    pred = model(test_tensor)\n",
    "    dane = torch.softmax(pred, dim=1)[0, :]\n",
    "    print(f\"Random {round(float(dane[0]), 6)}\")\n",
    "    print(f\"Human {round(float(dane[1]), 6)}\")"
   ]
  },
  {
   "cell_type": "code",
   "execution_count": 201,
   "metadata": {},
   "outputs": [
    {
     "name": "stdout",
     "output_type": "stream",
     "text": [
      "Test string: ehjlieihqiteruniejeafoceosfxrdei\n",
      "[[0.03125    0.         0.03125    0.03125    0.21875    0.0625\n",
      "  0.         0.0625     0.15625    0.0625     0.         0.03125\n",
      "  0.         0.03125    0.0625     0.         0.03125    0.0625\n",
      "  0.03125    0.03125    0.03125    0.         0.         0.03125\n",
      "  0.         0.         0.         0.37781863 0.11111111 0.22222222\n",
      "  0.17786456 0.55555556 0.55555556 0.2239516  0.59382106 0.77777778\n",
      "  0.33333333 0.22222222 0.11111111 0.33333333 0.2239516  0.26205503\n",
      "  0.55555556 0.48511803 0.48511803 0.2239516  0.33333333 0.53934688\n",
      "  0.62422792 0.23733344 0.66666667 0.75818578 0.22222222 0.2003084\n",
      "  0.26205503 0.13888889 0.11453071 0.55555556]]\n",
      "Random 0.0\n",
      "Human 1.0\n"
     ]
    }
   ],
   "source": [
    "while True:\n",
    "    from generate import generate_random\n",
    "    test_str = generate_random(blockSize)\n",
    "    test_arr = np.array([str_to_neurons(sanitize_string(test_str))])\n",
    "    test_tensor = torch.tensor(test_arr, dtype=torch.float32)\n",
    "    model.eval()\n",
    "    with torch.no_grad():\n",
    "        pred = model(test_tensor)\n",
    "        dane = torch.softmax(pred, dim=1)[0, :]\n",
    "        if dane[1] > dane[0]:\n",
    "            print(f\"Test string: {test_str}\")\n",
    "            print(test_arr)\n",
    "            print(f\"Random {round(float(dane[0]), 6)}\")\n",
    "            print(f\"Human {round(float(dane[1]), 6)}\")\n",
    "            break\n"
   ]
  }
 ],
 "metadata": {
  "kernelspec": {
   "display_name": "venv",
   "language": "python",
   "name": "python3"
  },
  "language_info": {
   "codemirror_mode": {
    "name": "ipython",
    "version": 3
   },
   "file_extension": ".py",
   "mimetype": "text/x-python",
   "name": "python",
   "nbconvert_exporter": "python",
   "pygments_lexer": "ipython3",
   "version": "3.13.3"
  }
 },
 "nbformat": 4,
 "nbformat_minor": 2
}
