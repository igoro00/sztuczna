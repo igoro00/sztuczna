{
 "cells": [
  {
   "cell_type": "code",
   "execution_count": null,
   "metadata": {},
   "outputs": [],
   "source": [
    "import numpy as np"
   ]
  },
  {
   "cell_type": "code",
   "execution_count": null,
   "metadata": {},
   "outputs": [],
   "source": [
    "neurons = [4,4,3]"
   ]
  },
  {
   "cell_type": "code",
   "execution_count": null,
   "metadata": {},
   "outputs": [],
   "source": [
    "weights = None\n",
    "filename = \"weights.npy\"\n",
    "try:\n",
    "    weights = np.load(filename)\n",
    "except:\n",
    "    weights = np.zeros((len(neurons)-1, max(neurons), max(neurons)+1))\n",
    "    for i in range(len(weights)):\n",
    "        layer = np.random.rand(neurons[i+1], neurons[i]+1)\n",
    "        layer[:,0] = np.random.rand() # bias for that layer\n",
    "        layer.resize(max(neurons), max(neurons)+1)\n",
    "        weights[i] = layer\n",
    "weights"
   ]
  },
  {
   "cell_type": "code",
   "execution_count": null,
   "metadata": {},
   "outputs": [],
   "source": [
    "from sklearn import datasets, preprocessing\n",
    "iris = datasets.load_iris()\n",
    "data = preprocessing.normalize(iris.data)\n",
    "iris.target"
   ]
  },
  {
   "cell_type": "code",
   "execution_count": null,
   "metadata": {},
   "outputs": [],
   "source": [
    "# run inference\n",
    "def inference(weights, data):\n",
    "    def activation(x):\n",
    "        return (1 / (1+np.pow(np.e, -x)))\n",
    "\n",
    "    sample = data\n",
    "    sample.resize(max(neurons))\n",
    "\n",
    "    # add 1 at the beginning so bias properly applies \n",
    "    sample = np.pad(sample, (1,0), \"constant\", constant_values=(1))\n",
    "    for (i,layer) in enumerate(weights):\n",
    "        sample = layer @ sample\n",
    "        sample = activation(sample)\n",
    "        sample = np.pad(sample, (1,0), \"constant\", constant_values=(1))\n",
    "    return sample[1:(neurons[-1]+1)] # strip all the useless padding"
   ]
  },
  {
   "cell_type": "code",
   "execution_count": null,
   "metadata": {},
   "outputs": [],
   "source": [
    "# test error\n",
    "for (sample, target) in zip(data, iris.target):\n",
    "    targetArr = np.zeros(3)\n",
    "    targetArr[target] = 1\n",
    "    output = inference(weights, sample)\n",
    "    err = np.sum(np.pow(targetArr - output, 2))/2\n",
    "    print(err)\n"
   ]
  },
  {
   "cell_type": "code",
   "execution_count": null,
   "metadata": {},
   "outputs": [],
   "source": [
    "np.save(filename, weights)"
   ]
  }
 ],
 "metadata": {
  "kernelspec": {
   "display_name": "Python 3",
   "language": "python",
   "name": "python3"
  },
  "language_info": {
   "codemirror_mode": {
    "name": "ipython",
    "version": 3
   },
   "file_extension": ".py",
   "mimetype": "text/x-python",
   "name": "python",
   "nbconvert_exporter": "python",
   "pygments_lexer": "ipython3",
   "version": "3.13.3"
  }
 },
 "nbformat": 4,
 "nbformat_minor": 2
}
