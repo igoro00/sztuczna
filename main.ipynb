{
 "cells": [
  {
   "cell_type": "code",
   "execution_count": null,
   "metadata": {},
   "outputs": [],
   "source": [
    "%matplotlib widget\n",
    "import matplotlib.pyplot as plt\n",
    "import numpy as np\n",
    "import random"
   ]
  },
  {
   "cell_type": "code",
   "execution_count": null,
   "metadata": {},
   "outputs": [],
   "source": [
    "neurons = [4,2,4]"
   ]
  },
  {
   "cell_type": "code",
   "execution_count": null,
   "metadata": {},
   "outputs": [],
   "source": [
    "weights = None\n",
    "filename = \"weights.npy\"\n",
    "try:\n",
    "    weights = np.load(filename)\n",
    "except:\n",
    "    weights = np.zeros((len(neurons)-1, max(neurons), max(neurons)+1))\n",
    "    for i in range(len(weights)):\n",
    "        layer = np.random.rand(neurons[i+1], neurons[i]+1)\n",
    "        layer.resize(max(neurons), max(neurons)+1)\n",
    "        weights[i] = layer\n",
    "weights"
   ]
  },
  {
   "cell_type": "code",
   "execution_count": null,
   "metadata": {},
   "outputs": [],
   "source": [
    "# from sklearn import datasets, preprocessing\n",
    "# iris = datasets.load_iris()\n",
    "# data = preprocessing.normalize(iris.data)\n",
    "# iris"
   ]
  },
  {
   "cell_type": "code",
   "execution_count": null,
   "metadata": {},
   "outputs": [],
   "source": [
    "data = np.array([\n",
    "    [1,0,0,0],\n",
    "    [0,1,0,0],\n",
    "    [0,0,1,0],\n",
    "    [0,0,0,1],\n",
    "])\n",
    "targets = np.array([\n",
    "    [1,0,0,0],\n",
    "    [0,1,0,0],\n",
    "    [0,0,1,0],\n",
    "    [0,0,0,1],\n",
    "])"
   ]
  },
  {
   "cell_type": "code",
   "execution_count": null,
   "metadata": {},
   "outputs": [],
   "source": [
    "def activation(x):\n",
    "    return (1 / (1+np.pow(np.e, -x)))"
   ]
  },
  {
   "cell_type": "code",
   "execution_count": null,
   "metadata": {},
   "outputs": [],
   "source": [
    "# run inference\n",
    "def inference(weights, data):\n",
    "    sample = np.copy(data)\n",
    "    sample.resize(max(neurons))\n",
    "\n",
    "    # add 1 at the beginning so bias properly applies \n",
    "    sample = np.pad(sample, (1,0), \"constant\", constant_values=(1))\n",
    "    for (i,layer) in enumerate(weights):\n",
    "        sample = layer @ sample\n",
    "        sample = activation(sample)\n",
    "        sample = np.pad(sample, (1,0), \"constant\", constant_values=(1))\n",
    "    return sample[1:(neurons[-1]+1)] # strip all the useless padding"
   ]
  },
  {
   "cell_type": "code",
   "execution_count": null,
   "metadata": {},
   "outputs": [],
   "source": [
    "def backprop(weights, sample, target, lr=0.1, momentum=0.0, prev_updates=None):\n",
    "    # Forward pass\n",
    "    activations = []\n",
    "    inputs = []\n",
    "    x = sample.copy()\n",
    "    x.resize(max(neurons))\n",
    "    x = np.pad(x, (1,0), \"constant\", constant_values=(1))\n",
    "    inputs.append(x)\n",
    "    for layer in weights:\n",
    "        x = layer @ x\n",
    "        x = activation(x)  # sigmoid\n",
    "        activations.append(x)\n",
    "        x = np.pad(x, (1,0), \"constant\", constant_values=(1))\n",
    "        inputs.append(x)\n",
    "    # Remove padding for output\n",
    "    output = activations[-1][0:neurons[-1]]\n",
    "    # Calculate output error\n",
    "    delta = (output - target) * output * (1 - output)\n",
    "    delta.resize(max(neurons))\n",
    "    deltas = [delta]\n",
    "    error = np.sqrt(np.sum(delta**2))\n",
    "\n",
    "    # Backward pass\n",
    "    for i in range(len(weights)-1, 0, -1):\n",
    "        act = activations[i-1][0:neurons[i]]\n",
    "        w = weights[i][:,1:neurons[i]+1]\n",
    "        delta = (w.T @ deltas[0]) * act * (1 - act)\n",
    "        delta.resize(max(neurons))\n",
    "        deltas.insert(0, delta)\n",
    "\n",
    "    # Initialize previous updates if needed\n",
    "    if prev_updates is None:\n",
    "        prev_updates = [np.zeros_like(w) for w in weights]\n",
    "\n",
    "    # Update weights with momentum\n",
    "    new_prev_updates = []\n",
    "    for i in range(len(weights)):\n",
    "        inp = inputs[i][np.newaxis, :]\n",
    "        delt = deltas[i][:, np.newaxis]\n",
    "        update = lr * delt @ inp\n",
    "        weights[i][:, :inp.shape[1]] -= update + momentum * prev_updates[i][:, :inp.shape[1]]\n",
    "        # Store this update for next iteration\n",
    "        prev_update = update\n",
    "        new_prev_updates.append(prev_update)\n",
    "    return (weights, error, new_prev_updates)"
   ]
  },
  {
   "cell_type": "code",
   "execution_count": null,
   "metadata": {},
   "outputs": [],
   "source": [
    "errors = []"
   ]
  },
  {
   "cell_type": "code",
   "execution_count": null,
   "metadata": {},
   "outputs": [],
   "source": [
    "# Training loop example\n",
    "epochs = 4000\n",
    "epochData = list(zip(data, targets))\n",
    "for epoch in range(epochs):\n",
    "    epochError = []\n",
    "    random.shuffle(epochData)\n",
    "    for sample, target in epochData:\n",
    "        (weights,error) = backprop(weights, sample, target, lr=0.6, momentum=0.0)\n",
    "        epochError.append(error)\n",
    "    errors.append(np.mean(epochError))"
   ]
  },
  {
   "cell_type": "code",
   "execution_count": null,
   "metadata": {},
   "outputs": [],
   "source": [
    "plt.figure()\n",
    "plt.plot(errors)\n",
    "plt.title(\"Error over time\")\n",
    "plt.xlabel(\"Epoch\")\n",
    "plt.ylabel(\"Error\")\n",
    "plt.show()"
   ]
  },
  {
   "cell_type": "code",
   "execution_count": null,
   "metadata": {},
   "outputs": [],
   "source": [
    "#np.save(filename, weights)"
   ]
  },
  {
   "cell_type": "code",
   "execution_count": null,
   "metadata": {},
   "outputs": [],
   "source": [
    "def test(weights, data, target):\n",
    "    correct = 0\n",
    "    for sample, target in zip(data, target):\n",
    "        targetArr = np.zeros(3)\n",
    "        targetArr[target] = 1\n",
    "        output = inference(weights, sample)\n",
    "        if np.argmax(output) == np.argmax(targetArr):\n",
    "            correct += 1\n",
    "        else:\n",
    "            print(\"results\", np.round(output,2))\n",
    "            print(\"target \", targetArr)\n",
    "    return correct, len(data)-correct, correct/len(data)*100\n",
    "print(test(weights, data, targets))\n"
   ]
  },
  {
   "cell_type": "code",
   "execution_count": null,
   "metadata": {},
   "outputs": [],
   "source": [
    "weights"
   ]
  }
 ],
 "metadata": {
  "kernelspec": {
   "display_name": "Python 3",
   "language": "python",
   "name": "python3"
  },
  "language_info": {
   "codemirror_mode": {
    "name": "ipython",
    "version": 3
   },
   "file_extension": ".py",
   "mimetype": "text/x-python",
   "name": "python",
   "nbconvert_exporter": "python",
   "pygments_lexer": "ipython3",
   "version": "3.13.3"
  }
 },
 "nbformat": 4,
 "nbformat_minor": 2
}
